{
 "cells": [
  {
   "cell_type": "code",
   "execution_count": 1,
   "id": "430c58de-8866-4dea-b004-98d288accf0d",
   "metadata": {},
   "outputs": [],
   "source": [
    "from selenium import webdriver\n",
    "from selenium.webdriver.chrome.options import Options\n",
    "from selenium.webdriver.chrome.service import Service\n",
    "from selenium.webdriver.common.by import By as by\n",
    "from selenium.webdriver import ActionChains\n",
    "from time import sleep\n",
    "import pandas as pd"
   ]
  },
  {
   "cell_type": "code",
   "execution_count": 2,
   "id": "faf5e1d7-ebb4-413e-aa0d-e8334fd311f1",
   "metadata": {},
   "outputs": [],
   "source": [
    "url = 'https://www.linkedin.com/jobs/search?keywords=&location=&geoId=&trk=public_jobs_jobs-search-bar_search-submit&position=1&pageNum=0'\n",
    "s = Service('/Users/jbread/bin/chromedriver')\n",
    "\n",
    "chrome_options = Options()\n",
    "#chrome_options.add_argument(\"--headless\")\n",
    "#chrome_options.add_argument(\"--start-maximized\");\n",
    "\n",
    "driver = webdriver.Chrome(service=s, options=chrome_options)\n",
    "driver.get(url)"
   ]
  },
  {
   "cell_type": "code",
   "execution_count": 3,
   "id": "ce7f6e61-5549-4e5d-9637-5bb4d75d8366",
   "metadata": {},
   "outputs": [
    {
     "name": "stdout",
     "output_type": "stream",
     "text": [
      "1\n",
      "2\n",
      "3\n",
      "4\n",
      "5\n",
      "6\n",
      "7\n",
      "8\n",
      "9\n",
      "10\n",
      "11\n",
      "12\n",
      "13\n",
      "14\n",
      "15\n",
      "16\n",
      "17\n",
      "18\n",
      "19\n",
      "20\n",
      "21\n",
      "22\n",
      "23\n",
      "24\n"
     ]
    }
   ],
   "source": [
    "jobsParent = driver.find_element(by.XPATH, '/html/body/div[1]/div/main/section/ul')\n",
    "jobs = jobsParent.find_elements(by.XPATH, './child::*')\n",
    "\n",
    "job_list = []\n",
    "\n",
    "count = 0\n",
    "for job in jobs:\n",
    "    jobChildren = job.find_element(by.XPATH, './child::*')\n",
    "    jobChildren = jobChildren.find_elements(by.XPATH, './child::*')\n",
    "    \n",
    "    info = job.find_element(by.CLASS_NAME, 'base-search-card__info')\n",
    "    position = info.find_element(by.CLASS_NAME, 'base-search-card__title').text\n",
    "    company = info.find_element(by.CLASS_NAME, 'base-search-card__subtitle').text\n",
    "    location = info.find_element(by.CLASS_NAME, 'job-search-card__location').text\n",
    "    try: salary = info.find_element(by.CLASS_NAME, 'job-search-card__salary-info').text\n",
    "    except: salary = 'N/A'\n",
    "    joburl = jobChildren[0].get_attribute('href')\n",
    "    \n",
    "    if joburl is None: continue\n",
    "    \n",
    "    job.click()\n",
    "    driver.execute_script(\"window.scrollTo(0, document.body.scrollHeight);\")\n",
    "    sleep(0.7)\n",
    "    \n",
    "    \n",
    "    \n",
    "    description = job.find_element(by.XPATH, '/html/body/div[1]/div/section/div[2]/div/section[1]/div/div').text\n",
    "    \n",
    "    while description is None:\n",
    "        print('description page not loaded')\n",
    "        description = job.find_element(by.XPATH, '/html/body/div[1]/div/section/div[2]/div/section[1]/div/div').text\n",
    "        sleep(1)\n",
    "    \n",
    "    description.replace('Show more', '')\n",
    "    \n",
    "    try: job_type = job.find_element(by.XPATH, '/html/body/div[1]/div/section/div[2]/div/section[1]/div/ul/li[1]/span').text\n",
    "    except: job_type = 'N/A'\n",
    "    \n",
    "    try: employment = job.find_element(by.XPATH, '/html/body/div[1]/div/section/div[2]/div[1]/section[1]/div/ul/li[2]/span').text\n",
    "    except: employment = 'N/A'\n",
    "        \n",
    "    try: responsibility = job.find_element(by.XPATH, '/html/body/div[1]/div/section/div[2]/div[1]/section[1]/div/ul/li[3]/span').text\n",
    "    except: responsibility = 'N/A'\n",
    "    \n",
    "    try: category = job.find_element(by.XPATH, '/html/body/div[1]/div/section/div[2]/div[1]/section[1]/div/ul/li[4]/span').text\n",
    "    except: category = 'N/A'\n",
    "    \n",
    "    job_item = {\n",
    "        'position': position,\n",
    "        'company': company,\n",
    "        'description': description,\n",
    "        'location': location,\n",
    "        'salary': salary,\n",
    "        'url': joburl,\n",
    "        'job_type': job_type,\n",
    "        'employment': employment,\n",
    "        'responsibility': responsibility,\n",
    "        'category': category,\n",
    "        \n",
    "        'workplace': 'N/A',\n",
    "        'authorization': 'N/A',\n",
    "        'expiration': 'N/A',\n",
    "        \n",
    "        'benefits': 'N/A',\n",
    "        'qualifications': 'N/A',\n",
    "        'requirements': 'N/A'\n",
    "    }\n",
    "    #print(job_item)\n",
    "    job_list.append(job_item)\n",
    "    count += 1\n",
    "    print(count)\n",
    "    if count > 1000:\n",
    "        break\n",
    "    sleep(0.3)\n",
    "    \n",
    "    "
   ]
  },
  {
   "cell_type": "code",
   "execution_count": 4,
   "id": "9da8e5ed-c606-4c5d-b724-510798e8daec",
   "metadata": {},
   "outputs": [
    {
     "ename": "NameError",
     "evalue": "name 'df' is not defined",
     "output_type": "error",
     "traceback": [
      "\u001b[0;31m---------------------------------------------------------------------------\u001b[0m",
      "\u001b[0;31mNameError\u001b[0m                                 Traceback (most recent call last)",
      "\u001b[0;32m/var/folders/7z/vhd25lh92_q3cd5d4507p3n00000gn/T/ipykernel_11587/3440583757.py\u001b[0m in \u001b[0;36m<module>\u001b[0;34m\u001b[0m\n\u001b[0;32m----> 1\u001b[0;31m \u001b[0mprint\u001b[0m\u001b[0;34m(\u001b[0m\u001b[0mdf\u001b[0m\u001b[0;34m)\u001b[0m\u001b[0;34m\u001b[0m\u001b[0;34m\u001b[0m\u001b[0m\n\u001b[0m\u001b[1;32m      2\u001b[0m \u001b[0mdf\u001b[0m \u001b[0;34m=\u001b[0m \u001b[0mpd\u001b[0m\u001b[0;34m.\u001b[0m\u001b[0mDataFrame\u001b[0m\u001b[0;34m(\u001b[0m\u001b[0mjob_list\u001b[0m\u001b[0;34m)\u001b[0m\u001b[0;34m\u001b[0m\u001b[0;34m\u001b[0m\u001b[0m\n\u001b[1;32m      3\u001b[0m \u001b[0mdf\u001b[0m\u001b[0;34m.\u001b[0m\u001b[0mto_excel\u001b[0m\u001b[0;34m(\u001b[0m\u001b[0;34m'jobs.xlsx'\u001b[0m\u001b[0;34m)\u001b[0m\u001b[0;34m\u001b[0m\u001b[0;34m\u001b[0m\u001b[0m\n",
      "\u001b[0;31mNameError\u001b[0m: name 'df' is not defined"
     ]
    }
   ],
   "source": [
    "print(df)\n",
    "df = pd.DataFrame(job_list)\n",
    "df.to_excel('jobs.xlsx')"
   ]
  },
  {
   "cell_type": "code",
   "execution_count": null,
   "id": "9ac60aa6-b387-4112-9308-02a6e58d557e",
   "metadata": {},
   "outputs": [],
   "source": []
  },
  {
   "cell_type": "code",
   "execution_count": null,
   "id": "82000a30-3f53-402c-9fc7-9fee4e403aae",
   "metadata": {},
   "outputs": [],
   "source": []
  },
  {
   "cell_type": "code",
   "execution_count": null,
   "id": "d2c4cc91-8599-41f5-ad41-e22514a3814d",
   "metadata": {},
   "outputs": [],
   "source": []
  },
  {
   "cell_type": "code",
   "execution_count": null,
   "id": "6ab2c43c-5e5e-4c88-838c-cf1442193ebc",
   "metadata": {},
   "outputs": [],
   "source": []
  },
  {
   "cell_type": "code",
   "execution_count": null,
   "id": "3866718f-c759-4b68-8b03-084e69a5a8a7",
   "metadata": {},
   "outputs": [],
   "source": []
  },
  {
   "cell_type": "code",
   "execution_count": null,
   "id": "ebfb7320-d9ef-4b72-9f36-eef28add2343",
   "metadata": {},
   "outputs": [],
   "source": []
  },
  {
   "cell_type": "code",
   "execution_count": null,
   "id": "d9bbc426-8b9a-4695-a776-9f9c1198b5a6",
   "metadata": {},
   "outputs": [],
   "source": []
  }
 ],
 "metadata": {
  "kernelspec": {
   "display_name": "Python 3 (ipykernel)",
   "language": "python",
   "name": "python3"
  },
  "language_info": {
   "codemirror_mode": {
    "name": "ipython",
    "version": 3
   },
   "file_extension": ".py",
   "mimetype": "text/x-python",
   "name": "python",
   "nbconvert_exporter": "python",
   "pygments_lexer": "ipython3",
   "version": "3.9.7"
  }
 },
 "nbformat": 4,
 "nbformat_minor": 5
}
